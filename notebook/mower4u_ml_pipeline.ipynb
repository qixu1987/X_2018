{
 "cells": [
  {
   "cell_type": "markdown",
   "metadata": {},
   "source": [
    "# ** Xebia Part II: Machine Learning Pipeline**\n",
    "0. **Pipeline**\n",
    "    1. Feature union preprocessing pipeline"
   ]
  },
  {
   "cell_type": "code",
   "execution_count": 23,
   "metadata": {},
   "outputs": [],
   "source": [
    "import numpy as np\n",
    "import pandas as pd\n",
    "import sys\n",
    "import lightgbm as lgb\n",
    "import xgboost as xgb\n",
    "\n",
    "sys.path.insert(0, '../')\n",
    "from sklearn.preprocessing import LabelBinarizer\n",
    "from sklearn.pipeline import Pipeline\n",
    "from sklearn.model_selection import GridSearchCV\n",
    "from sklearn.ensemble import RandomForestRegressor\n",
    "from sklearn_pandas import DataFrameMapper\n",
    "from src.utils import WarrantyToFloat,FillByMax\n",
    "\n",
    "%matplotlib inline"
   ]
  },
  {
   "cell_type": "code",
   "execution_count": 2,
   "metadata": {
    "collapsed": true
   },
   "outputs": [],
   "source": [
    "df_train = pd.read_csv('../data/mower_market_snapshot.csv',sep=';',\n",
    "                     na_values='unknown')\n",
    "target = df_train.loc[:,\"attractiveness\"]\n",
    "df_train = df_train.drop([\"id\",\"market_share\",\"attractiveness\"],axis=1)\n",
    "df_test = pd.read_csv('../data/submission_set.csv',sep=';',na_values='unknown')"
   ]
  },
  {
   "cell_type": "code",
   "execution_count": 3,
   "metadata": {},
   "outputs": [
    {
     "data": {
      "text/html": [
       "<div>\n",
       "<style>\n",
       "    .dataframe thead tr:only-child th {\n",
       "        text-align: right;\n",
       "    }\n",
       "\n",
       "    .dataframe thead th {\n",
       "        text-align: left;\n",
       "    }\n",
       "\n",
       "    .dataframe tbody tr th {\n",
       "        vertical-align: top;\n",
       "    }\n",
       "</style>\n",
       "<table border=\"1\" class=\"dataframe\">\n",
       "  <thead>\n",
       "    <tr style=\"text-align: right;\">\n",
       "      <th></th>\n",
       "      <th>capacity</th>\n",
       "      <th>failure_rate</th>\n",
       "      <th>id</th>\n",
       "      <th>margin</th>\n",
       "      <th>price</th>\n",
       "      <th>prod_cost</th>\n",
       "      <th>product_type</th>\n",
       "      <th>quality</th>\n",
       "      <th>warranty</th>\n",
       "    </tr>\n",
       "  </thead>\n",
       "  <tbody>\n",
       "    <tr>\n",
       "      <th>0</th>\n",
       "      <td>21.313064</td>\n",
       "      <td>0.037928</td>\n",
       "      <td>20049</td>\n",
       "      <td>613.061762</td>\n",
       "      <td>768.160605</td>\n",
       "      <td>155.098843</td>\n",
       "      <td>auto-portee</td>\n",
       "      <td>Medium</td>\n",
       "      <td>3 ans</td>\n",
       "    </tr>\n",
       "    <tr>\n",
       "      <th>1</th>\n",
       "      <td>25.797234</td>\n",
       "      <td>0.038664</td>\n",
       "      <td>19699</td>\n",
       "      <td>701.321608</td>\n",
       "      <td>865.727540</td>\n",
       "      <td>164.405932</td>\n",
       "      <td>auto-portee</td>\n",
       "      <td>Low</td>\n",
       "      <td>3 ans</td>\n",
       "    </tr>\n",
       "  </tbody>\n",
       "</table>\n",
       "</div>"
      ],
      "text/plain": [
       "    capacity  failure_rate     id      margin       price   prod_cost  \\\n",
       "0  21.313064      0.037928  20049  613.061762  768.160605  155.098843   \n",
       "1  25.797234      0.038664  19699  701.321608  865.727540  164.405932   \n",
       "\n",
       "  product_type quality warranty  \n",
       "0  auto-portee  Medium    3 ans  \n",
       "1  auto-portee     Low    3 ans  "
      ]
     },
     "execution_count": 3,
     "metadata": {},
     "output_type": "execute_result"
    }
   ],
   "source": [
    "df_test.head(2)"
   ]
  },
  {
   "cell_type": "code",
   "execution_count": 4,
   "metadata": {},
   "outputs": [
    {
     "data": {
      "text/html": [
       "<div>\n",
       "<style>\n",
       "    .dataframe thead tr:only-child th {\n",
       "        text-align: right;\n",
       "    }\n",
       "\n",
       "    .dataframe thead th {\n",
       "        text-align: left;\n",
       "    }\n",
       "\n",
       "    .dataframe tbody tr th {\n",
       "        vertical-align: top;\n",
       "    }\n",
       "</style>\n",
       "<table border=\"1\" class=\"dataframe\">\n",
       "  <thead>\n",
       "    <tr style=\"text-align: right;\">\n",
       "      <th></th>\n",
       "      <th>capacity</th>\n",
       "      <th>failure_rate</th>\n",
       "      <th>margin</th>\n",
       "      <th>price</th>\n",
       "      <th>prod_cost</th>\n",
       "      <th>product_type</th>\n",
       "      <th>quality</th>\n",
       "      <th>warranty</th>\n",
       "    </tr>\n",
       "  </thead>\n",
       "  <tbody>\n",
       "    <tr>\n",
       "      <th>0</th>\n",
       "      <td>10.492623</td>\n",
       "      <td>0.042528</td>\n",
       "      <td>633.766584</td>\n",
       "      <td>828.802103</td>\n",
       "      <td>195.035519</td>\n",
       "      <td>auto-portee</td>\n",
       "      <td>Low</td>\n",
       "      <td>3ans</td>\n",
       "    </tr>\n",
       "    <tr>\n",
       "      <th>1</th>\n",
       "      <td>20.273730</td>\n",
       "      <td>0.037896</td>\n",
       "      <td>731.576817</td>\n",
       "      <td>882.894916</td>\n",
       "      <td>151.318099</td>\n",
       "      <td>auto-portee</td>\n",
       "      <td>Low</td>\n",
       "      <td>3 ans.</td>\n",
       "    </tr>\n",
       "  </tbody>\n",
       "</table>\n",
       "</div>"
      ],
      "text/plain": [
       "    capacity  failure_rate      margin       price   prod_cost product_type  \\\n",
       "0  10.492623      0.042528  633.766584  828.802103  195.035519  auto-portee   \n",
       "1  20.273730      0.037896  731.576817  882.894916  151.318099  auto-portee   \n",
       "\n",
       "  quality warranty  \n",
       "0     Low     3ans  \n",
       "1     Low   3 ans.  "
      ]
     },
     "execution_count": 4,
     "metadata": {},
     "output_type": "execute_result"
    }
   ],
   "source": [
    "df_train.head(2)"
   ]
  },
  {
   "cell_type": "code",
   "execution_count": 5,
   "metadata": {
    "collapsed": true
   },
   "outputs": [],
   "source": [
    "p = Pipeline([\n",
    "    ('preprocessing',DataFrameMapper([ \n",
    "                ('product_type', LabelBinarizer()),\n",
    "                ('quality', LabelBinarizer()),\n",
    "                ('warranty',WarrantyToFloat()),\n",
    "                                           ],input_df=True,default=None,df_out = True)),\n",
    "     ('fill_by_max',FillByMax()) # this is only used for tree methodes\n",
    "    \n",
    "            ])\n",
    "    "
   ]
  },
  {
   "cell_type": "code",
   "execution_count": 6,
   "metadata": {},
   "outputs": [],
   "source": [
    "df_train_prepro = p.fit_transform(df_train)"
   ]
  },
  {
   "cell_type": "code",
   "execution_count": 7,
   "metadata": {},
   "outputs": [
    {
     "data": {
      "text/html": [
       "<div>\n",
       "<style>\n",
       "    .dataframe thead tr:only-child th {\n",
       "        text-align: right;\n",
       "    }\n",
       "\n",
       "    .dataframe thead th {\n",
       "        text-align: left;\n",
       "    }\n",
       "\n",
       "    .dataframe tbody tr th {\n",
       "        vertical-align: top;\n",
       "    }\n",
       "</style>\n",
       "<table border=\"1\" class=\"dataframe\">\n",
       "  <thead>\n",
       "    <tr style=\"text-align: right;\">\n",
       "      <th></th>\n",
       "      <th>product_type_auto-portee</th>\n",
       "      <th>product_type_electrique</th>\n",
       "      <th>product_type_essence</th>\n",
       "      <th>quality_Hight</th>\n",
       "      <th>quality_Low</th>\n",
       "      <th>quality_Medium</th>\n",
       "      <th>warranty</th>\n",
       "      <th>capacity</th>\n",
       "      <th>failure_rate</th>\n",
       "      <th>margin</th>\n",
       "      <th>price</th>\n",
       "      <th>prod_cost</th>\n",
       "    </tr>\n",
       "  </thead>\n",
       "  <tbody>\n",
       "    <tr>\n",
       "      <th>0</th>\n",
       "      <td>1.0</td>\n",
       "      <td>0.0</td>\n",
       "      <td>0.0</td>\n",
       "      <td>0.0</td>\n",
       "      <td>1.0</td>\n",
       "      <td>0.0</td>\n",
       "      <td>3.0</td>\n",
       "      <td>10.492623</td>\n",
       "      <td>0.042528</td>\n",
       "      <td>633.766584</td>\n",
       "      <td>828.802103</td>\n",
       "      <td>195.035519</td>\n",
       "    </tr>\n",
       "    <tr>\n",
       "      <th>1</th>\n",
       "      <td>1.0</td>\n",
       "      <td>0.0</td>\n",
       "      <td>0.0</td>\n",
       "      <td>0.0</td>\n",
       "      <td>1.0</td>\n",
       "      <td>0.0</td>\n",
       "      <td>3.0</td>\n",
       "      <td>20.273730</td>\n",
       "      <td>0.037896</td>\n",
       "      <td>731.576817</td>\n",
       "      <td>882.894916</td>\n",
       "      <td>151.318099</td>\n",
       "    </tr>\n",
       "    <tr>\n",
       "      <th>2</th>\n",
       "      <td>1.0</td>\n",
       "      <td>0.0</td>\n",
       "      <td>0.0</td>\n",
       "      <td>0.0</td>\n",
       "      <td>1.0</td>\n",
       "      <td>0.0</td>\n",
       "      <td>3.0</td>\n",
       "      <td>20.190457</td>\n",
       "      <td>0.039111</td>\n",
       "      <td>741.218202</td>\n",
       "      <td>919.355522</td>\n",
       "      <td>178.137319</td>\n",
       "    </tr>\n",
       "    <tr>\n",
       "      <th>3</th>\n",
       "      <td>1.0</td>\n",
       "      <td>0.0</td>\n",
       "      <td>0.0</td>\n",
       "      <td>0.0</td>\n",
       "      <td>1.0</td>\n",
       "      <td>0.0</td>\n",
       "      <td>3.0</td>\n",
       "      <td>27.220131</td>\n",
       "      <td>0.041303</td>\n",
       "      <td>654.255635</td>\n",
       "      <td>817.085097</td>\n",
       "      <td>162.829462</td>\n",
       "    </tr>\n",
       "    <tr>\n",
       "      <th>4</th>\n",
       "      <td>1.0</td>\n",
       "      <td>0.0</td>\n",
       "      <td>0.0</td>\n",
       "      <td>0.0</td>\n",
       "      <td>0.0</td>\n",
       "      <td>1.0</td>\n",
       "      <td>3.0</td>\n",
       "      <td>16.370911</td>\n",
       "      <td>0.037938</td>\n",
       "      <td>703.094527</td>\n",
       "      <td>844.581465</td>\n",
       "      <td>141.486938</td>\n",
       "    </tr>\n",
       "  </tbody>\n",
       "</table>\n",
       "</div>"
      ],
      "text/plain": [
       "   product_type_auto-portee  product_type_electrique  product_type_essence  \\\n",
       "0                       1.0                      0.0                   0.0   \n",
       "1                       1.0                      0.0                   0.0   \n",
       "2                       1.0                      0.0                   0.0   \n",
       "3                       1.0                      0.0                   0.0   \n",
       "4                       1.0                      0.0                   0.0   \n",
       "\n",
       "   quality_Hight  quality_Low  quality_Medium  warranty   capacity  \\\n",
       "0            0.0          1.0             0.0       3.0  10.492623   \n",
       "1            0.0          1.0             0.0       3.0  20.273730   \n",
       "2            0.0          1.0             0.0       3.0  20.190457   \n",
       "3            0.0          1.0             0.0       3.0  27.220131   \n",
       "4            0.0          0.0             1.0       3.0  16.370911   \n",
       "\n",
       "   failure_rate      margin       price   prod_cost  \n",
       "0      0.042528  633.766584  828.802103  195.035519  \n",
       "1      0.037896  731.576817  882.894916  151.318099  \n",
       "2      0.039111  741.218202  919.355522  178.137319  \n",
       "3      0.041303  654.255635  817.085097  162.829462  \n",
       "4      0.037938  703.094527  844.581465  141.486938  "
      ]
     },
     "execution_count": 7,
     "metadata": {},
     "output_type": "execute_result"
    }
   ],
   "source": [
    "df_train_prepro.head()"
   ]
  },
  {
   "cell_type": "code",
   "execution_count": 37,
   "metadata": {},
   "outputs": [
    {
     "name": "stdout",
     "output_type": "stream",
     "text": [
      "Fitting 5 folds for each of 729 candidates, totalling 3645 fits\n"
     ]
    },
    {
     "name": "stderr",
     "output_type": "stream",
     "text": [
      "[Parallel(n_jobs=5)]: Done 190 tasks      | elapsed:    2.9s\n",
      "[Parallel(n_jobs=5)]: Done 1090 tasks      | elapsed:   21.6s\n",
      "[Parallel(n_jobs=5)]: Done 2590 tasks      | elapsed:   53.6s\n",
      "[Parallel(n_jobs=5)]: Done 3645 out of 3645 | elapsed:  1.3min finished\n"
     ]
    }
   ],
   "source": [
    "parameters = {'learning_rate': [0.05,0.1,0.2], #so called `eta` value\n",
    "              'max_depth': [4,6,8],\n",
    "              'min_child_weight': [4,8,12],\n",
    "              'subsample': [0.6,0.7,0.8],\n",
    "              'colsample_bytree': [0.6,0.7,0.8],\n",
    "              'n_estimators': [30,50,80], #number of trees, change it to 1000 for better results\n",
    "               }\n",
    "\n",
    "xgb_model = xgb.XGBRegressor(objective='reg:linear')\n",
    "clf = GridSearchCV(xgb_model, parameters, n_jobs=5, \n",
    "                   cv=5, \n",
    "                   scoring='neg_mean_squared_error',\n",
    "                   verbose=1, refit=True,return_train_score=True)\n",
    "\n",
    "_ = clf.fit(df_train_prepro,target)"
   ]
  },
  {
   "cell_type": "code",
   "execution_count": 36,
   "metadata": {},
   "outputs": [
    {
     "data": {
      "text/plain": [
       "{'colsample_bytree': 0.7,\n",
       " 'learning_rate': 0.1,\n",
       " 'max_depth': 4,\n",
       " 'min_child_weight': 4,\n",
       " 'n_estimators': 50,\n",
       " 'subsample': 0.7}"
      ]
     },
     "execution_count": 36,
     "metadata": {},
     "output_type": "execute_result"
    }
   ],
   "source": [
    "clf.best_params_"
   ]
  },
  {
   "cell_type": "code",
   "execution_count": 35,
   "metadata": {},
   "outputs": [
    {
     "data": {
      "text/plain": [
       "-0.012095698950621554"
      ]
     },
     "execution_count": 35,
     "metadata": {},
     "output_type": "execute_result"
    }
   ],
   "source": [
    "clf.best_score_"
   ]
  },
  {
   "cell_type": "code",
   "execution_count": null,
   "metadata": {
    "collapsed": true
   },
   "outputs": [],
   "source": []
  }
 ],
 "metadata": {
  "kernelspec": {
   "display_name": "Python 3",
   "language": "python",
   "name": "python3"
  },
  "language_info": {
   "codemirror_mode": {
    "name": "ipython",
    "version": 3
   },
   "file_extension": ".py",
   "mimetype": "text/x-python",
   "name": "python",
   "nbconvert_exporter": "python",
   "pygments_lexer": "ipython3",
   "version": "3.6.3"
  }
 },
 "nbformat": 4,
 "nbformat_minor": 2
}
