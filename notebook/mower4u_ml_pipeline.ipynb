{
 "cells": [
  {
   "cell_type": "markdown",
   "metadata": {},
   "source": [
    "# ** Xebia Part II: Machine Learning Pipeline**\n",
    "0. **Pipeline**\n",
    "    1. preprocessing pipeline"
   ]
  },
  {
   "cell_type": "code",
   "execution_count": 15,
   "metadata": {},
   "outputs": [],
   "source": [
    "%matplotlib inline\n",
    "import numpy as np\n",
    "import pandas as pd\n",
    "import lightgbm as lgb\n",
    "import xgboost as xgb\n",
    "import random\n",
    "import sys\n",
    "sys.path.insert(0, '../')\n",
    "\n",
    "from sklearn.preprocessing import LabelBinarizer\n",
    "from sklearn.pipeline import Pipeline\n",
    "from sklearn.model_selection import GridSearchCV\n",
    "from sklearn.ensemble import RandomForestRegressor\n",
    "from sklearn_pandas import DataFrameMapper\n",
    "from src.utils import WarrantyToFloat,FillByMax\n",
    "from mlens.ensemble import SuperLearner\n",
    "from mlens.metrics import make_scorer\n",
    "from sklearn.metrics import mean_squared_error\n",
    "import numpy as np"
   ]
  },
  {
   "cell_type": "code",
   "execution_count": 211,
   "metadata": {},
   "outputs": [],
   "source": [
    "# Data loading\n",
    "df_train = pd.read_csv('../data/mower_market_snapshot.csv',sep=';',\n",
    "                     na_values='unknown')\n",
    "target = df_train.loc[:,\"attractiveness\"]\n",
    "target = np.log(1+target)\n",
    "df_train = df_train.drop([\"id\",\"market_share\",\"attractiveness\"],axis=1)\n",
    "df_test = pd.read_csv('../data/submission_set.csv',sep=';',na_values='unknown')\n",
    "submission = df_test.loc[:,[\"id\"]]\n",
    "df_test = df_test.drop([\"id\"],axis=1)"
   ]
  },
  {
   "cell_type": "code",
   "execution_count": 175,
   "metadata": {},
   "outputs": [
    {
     "data": {
      "text/html": [
       "<div>\n",
       "<style>\n",
       "    .dataframe thead tr:only-child th {\n",
       "        text-align: right;\n",
       "    }\n",
       "\n",
       "    .dataframe thead th {\n",
       "        text-align: left;\n",
       "    }\n",
       "\n",
       "    .dataframe tbody tr th {\n",
       "        vertical-align: top;\n",
       "    }\n",
       "</style>\n",
       "<table border=\"1\" class=\"dataframe\">\n",
       "  <thead>\n",
       "    <tr style=\"text-align: right;\">\n",
       "      <th></th>\n",
       "      <th>capacity</th>\n",
       "      <th>failure_rate</th>\n",
       "      <th>margin</th>\n",
       "      <th>price</th>\n",
       "      <th>prod_cost</th>\n",
       "      <th>product_type</th>\n",
       "      <th>quality</th>\n",
       "      <th>warranty</th>\n",
       "    </tr>\n",
       "  </thead>\n",
       "  <tbody>\n",
       "    <tr>\n",
       "      <th>0</th>\n",
       "      <td>21.313064</td>\n",
       "      <td>0.037928</td>\n",
       "      <td>613.061762</td>\n",
       "      <td>768.160605</td>\n",
       "      <td>155.098843</td>\n",
       "      <td>auto-portee</td>\n",
       "      <td>Medium</td>\n",
       "      <td>3 ans</td>\n",
       "    </tr>\n",
       "    <tr>\n",
       "      <th>1</th>\n",
       "      <td>25.797234</td>\n",
       "      <td>0.038664</td>\n",
       "      <td>701.321608</td>\n",
       "      <td>865.727540</td>\n",
       "      <td>164.405932</td>\n",
       "      <td>auto-portee</td>\n",
       "      <td>Low</td>\n",
       "      <td>3 ans</td>\n",
       "    </tr>\n",
       "  </tbody>\n",
       "</table>\n",
       "</div>"
      ],
      "text/plain": [
       "    capacity  failure_rate      margin       price   prod_cost product_type  \\\n",
       "0  21.313064      0.037928  613.061762  768.160605  155.098843  auto-portee   \n",
       "1  25.797234      0.038664  701.321608  865.727540  164.405932  auto-portee   \n",
       "\n",
       "  quality warranty  \n",
       "0  Medium    3 ans  \n",
       "1     Low    3 ans  "
      ]
     },
     "execution_count": 175,
     "metadata": {},
     "output_type": "execute_result"
    }
   ],
   "source": [
    "df_test.head(2)"
   ]
  },
  {
   "cell_type": "code",
   "execution_count": 176,
   "metadata": {},
   "outputs": [
    {
     "data": {
      "text/html": [
       "<div>\n",
       "<style>\n",
       "    .dataframe thead tr:only-child th {\n",
       "        text-align: right;\n",
       "    }\n",
       "\n",
       "    .dataframe thead th {\n",
       "        text-align: left;\n",
       "    }\n",
       "\n",
       "    .dataframe tbody tr th {\n",
       "        vertical-align: top;\n",
       "    }\n",
       "</style>\n",
       "<table border=\"1\" class=\"dataframe\">\n",
       "  <thead>\n",
       "    <tr style=\"text-align: right;\">\n",
       "      <th></th>\n",
       "      <th>capacity</th>\n",
       "      <th>failure_rate</th>\n",
       "      <th>margin</th>\n",
       "      <th>price</th>\n",
       "      <th>prod_cost</th>\n",
       "      <th>product_type</th>\n",
       "      <th>quality</th>\n",
       "      <th>warranty</th>\n",
       "    </tr>\n",
       "  </thead>\n",
       "  <tbody>\n",
       "    <tr>\n",
       "      <th>0</th>\n",
       "      <td>10.492623</td>\n",
       "      <td>0.042528</td>\n",
       "      <td>633.766584</td>\n",
       "      <td>828.802103</td>\n",
       "      <td>195.035519</td>\n",
       "      <td>auto-portee</td>\n",
       "      <td>Low</td>\n",
       "      <td>3ans</td>\n",
       "    </tr>\n",
       "    <tr>\n",
       "      <th>1</th>\n",
       "      <td>20.273730</td>\n",
       "      <td>0.037896</td>\n",
       "      <td>731.576817</td>\n",
       "      <td>882.894916</td>\n",
       "      <td>151.318099</td>\n",
       "      <td>auto-portee</td>\n",
       "      <td>Low</td>\n",
       "      <td>3 ans.</td>\n",
       "    </tr>\n",
       "  </tbody>\n",
       "</table>\n",
       "</div>"
      ],
      "text/plain": [
       "    capacity  failure_rate      margin       price   prod_cost product_type  \\\n",
       "0  10.492623      0.042528  633.766584  828.802103  195.035519  auto-portee   \n",
       "1  20.273730      0.037896  731.576817  882.894916  151.318099  auto-portee   \n",
       "\n",
       "  quality warranty  \n",
       "0     Low     3ans  \n",
       "1     Low   3 ans.  "
      ]
     },
     "execution_count": 176,
     "metadata": {},
     "output_type": "execute_result"
    }
   ],
   "source": [
    "df_train.head(2)"
   ]
  },
  {
   "cell_type": "markdown",
   "metadata": {},
   "source": [
    "## Preprocessing pipeling"
   ]
  },
  {
   "cell_type": "code",
   "execution_count": 177,
   "metadata": {
    "collapsed": true
   },
   "outputs": [],
   "source": [
    "p = Pipeline([\n",
    "    ('preprocessing',DataFrameMapper([ \n",
    "                ('product_type', LabelBinarizer()),\n",
    "                ('quality', LabelBinarizer()),\n",
    "                ('warranty',WarrantyToFloat()),\n",
    "                                           ],input_df=True,default=None,df_out = True)),\n",
    "     ('fill_by_max',FillByMax()) # this is only used for tree methodes\n",
    "    \n",
    "            ])\n",
    "    "
   ]
  },
  {
   "cell_type": "code",
   "execution_count": 178,
   "metadata": {
    "collapsed": true
   },
   "outputs": [],
   "source": [
    "df_train_prepro = p.fit_transform(df_train)"
   ]
  },
  {
   "cell_type": "code",
   "execution_count": 179,
   "metadata": {},
   "outputs": [
    {
     "data": {
      "text/html": [
       "<div>\n",
       "<style>\n",
       "    .dataframe thead tr:only-child th {\n",
       "        text-align: right;\n",
       "    }\n",
       "\n",
       "    .dataframe thead th {\n",
       "        text-align: left;\n",
       "    }\n",
       "\n",
       "    .dataframe tbody tr th {\n",
       "        vertical-align: top;\n",
       "    }\n",
       "</style>\n",
       "<table border=\"1\" class=\"dataframe\">\n",
       "  <thead>\n",
       "    <tr style=\"text-align: right;\">\n",
       "      <th></th>\n",
       "      <th>product_type_auto-portee</th>\n",
       "      <th>product_type_electrique</th>\n",
       "      <th>product_type_essence</th>\n",
       "      <th>quality_Hight</th>\n",
       "      <th>quality_Low</th>\n",
       "      <th>quality_Medium</th>\n",
       "      <th>warranty</th>\n",
       "      <th>capacity</th>\n",
       "      <th>failure_rate</th>\n",
       "      <th>margin</th>\n",
       "      <th>price</th>\n",
       "      <th>prod_cost</th>\n",
       "    </tr>\n",
       "  </thead>\n",
       "  <tbody>\n",
       "    <tr>\n",
       "      <th>0</th>\n",
       "      <td>1.0</td>\n",
       "      <td>0.0</td>\n",
       "      <td>0.0</td>\n",
       "      <td>0.0</td>\n",
       "      <td>1.0</td>\n",
       "      <td>0.0</td>\n",
       "      <td>3.0</td>\n",
       "      <td>10.492623</td>\n",
       "      <td>0.042528</td>\n",
       "      <td>633.766584</td>\n",
       "      <td>828.802103</td>\n",
       "      <td>195.035519</td>\n",
       "    </tr>\n",
       "    <tr>\n",
       "      <th>1</th>\n",
       "      <td>1.0</td>\n",
       "      <td>0.0</td>\n",
       "      <td>0.0</td>\n",
       "      <td>0.0</td>\n",
       "      <td>1.0</td>\n",
       "      <td>0.0</td>\n",
       "      <td>3.0</td>\n",
       "      <td>20.273730</td>\n",
       "      <td>0.037896</td>\n",
       "      <td>731.576817</td>\n",
       "      <td>882.894916</td>\n",
       "      <td>151.318099</td>\n",
       "    </tr>\n",
       "  </tbody>\n",
       "</table>\n",
       "</div>"
      ],
      "text/plain": [
       "   product_type_auto-portee  product_type_electrique  product_type_essence  \\\n",
       "0                       1.0                      0.0                   0.0   \n",
       "1                       1.0                      0.0                   0.0   \n",
       "\n",
       "   quality_Hight  quality_Low  quality_Medium  warranty   capacity  \\\n",
       "0            0.0          1.0             0.0       3.0  10.492623   \n",
       "1            0.0          1.0             0.0       3.0  20.273730   \n",
       "\n",
       "   failure_rate      margin       price   prod_cost  \n",
       "0      0.042528  633.766584  828.802103  195.035519  \n",
       "1      0.037896  731.576817  882.894916  151.318099  "
      ]
     },
     "execution_count": 179,
     "metadata": {},
     "output_type": "execute_result"
    }
   ],
   "source": [
    "df_train_prepro.head(2)"
   ]
  },
  {
   "cell_type": "markdown",
   "metadata": {},
   "source": [
    "## Grid search"
   ]
  },
  {
   "cell_type": "markdown",
   "metadata": {},
   "source": [
    "### Xgboost"
   ]
  },
  {
   "cell_type": "code",
   "execution_count": 184,
   "metadata": {
    "scrolled": false
   },
   "outputs": [
    {
     "name": "stdout",
     "output_type": "stream",
     "text": [
      "Fitting 5 folds for each of 108 candidates, totalling 540 fits\n"
     ]
    },
    {
     "name": "stderr",
     "output_type": "stream",
     "text": [
      "[Parallel(n_jobs=1)]: Done 540 out of 540 | elapsed:   17.0s finished\n"
     ]
    }
   ],
   "source": [
    "parameters = {'learning_rate': [0.05,0.1,0.2], #so called `eta` value\n",
    "              'max_depth': [1,2,4,6],\n",
    "              'min_child_weight': [10,15,20],\n",
    "              'subsample': [0.8],\n",
    "              'colsample_bytree': [0.6],\n",
    "              'n_estimators': [30,50,80], #number of trees, change it to 1000 for better results\n",
    "              'objective':[\"reg:linear\"],\n",
    "              'seed': [42],\n",
    "               }\n",
    "\n",
    "xgb_model = xgb.XGBRegressor()\n",
    "clf_xgb = GridSearchCV(xgb_model, parameters, cv=5, \n",
    "                   scoring='neg_mean_squared_error',\n",
    "                   verbose=1, refit=True,return_train_score=True)\n",
    "\n",
    "_ = clf_xgb.fit(df_train_prepro,target)"
   ]
  },
  {
   "cell_type": "code",
   "execution_count": 185,
   "metadata": {},
   "outputs": [
    {
     "data": {
      "text/plain": [
       "{'colsample_bytree': 0.6,\n",
       " 'learning_rate': 0.1,\n",
       " 'max_depth': 4,\n",
       " 'min_child_weight': 10,\n",
       " 'n_estimators': 30,\n",
       " 'objective': 'reg:linear',\n",
       " 'seed': 42,\n",
       " 'subsample': 0.8}"
      ]
     },
     "execution_count": 185,
     "metadata": {},
     "output_type": "execute_result"
    }
   ],
   "source": [
    "clf_xgb.best_params_"
   ]
  },
  {
   "cell_type": "code",
   "execution_count": 186,
   "metadata": {},
   "outputs": [
    {
     "data": {
      "text/plain": [
       "-0.0043139682521868925"
      ]
     },
     "execution_count": 186,
     "metadata": {},
     "output_type": "execute_result"
    }
   ],
   "source": [
    "clf_xgb.best_score_"
   ]
  },
  {
   "cell_type": "markdown",
   "metadata": {},
   "source": [
    "### Random Forest"
   ]
  },
  {
   "cell_type": "code",
   "execution_count": 187,
   "metadata": {
    "scrolled": false
   },
   "outputs": [
    {
     "name": "stdout",
     "output_type": "stream",
     "text": [
      "Fitting 5 folds for each of 72 candidates, totalling 360 fits\n"
     ]
    },
    {
     "name": "stderr",
     "output_type": "stream",
     "text": [
      "[Parallel(n_jobs=5)]: Done 360 out of 360 | elapsed:    1.5s finished\n"
     ]
    }
   ],
   "source": [
    "parameters = {\"n_estimators\":[3,5,8],\n",
    "              \"max_depth\": [5,None],\n",
    "              \"max_features\": [1, 2, 3],\n",
    "              \"min_samples_split\": [2,3],\n",
    "              \"min_samples_leaf\": [2,3],\n",
    "              \"random_state\":[42]\n",
    "                }\n",
    "\n",
    "rf_model =  RandomForestRegressor()\n",
    "clf_rf = GridSearchCV(rf_model, parameters, n_jobs=5,cv=5, \n",
    "                   scoring='neg_mean_squared_error',\n",
    "                   verbose=1, refit=True,return_train_score=True)\n",
    "\n",
    "_ = clf_rf.fit(df_train_prepro,target)"
   ]
  },
  {
   "cell_type": "code",
   "execution_count": 188,
   "metadata": {},
   "outputs": [
    {
     "data": {
      "text/plain": [
       "-0.003559887938432307"
      ]
     },
     "execution_count": 188,
     "metadata": {},
     "output_type": "execute_result"
    }
   ],
   "source": [
    "clf_rf.best_score_"
   ]
  },
  {
   "cell_type": "markdown",
   "metadata": {},
   "source": [
    "## Stacking"
   ]
  },
  {
   "cell_type": "markdown",
   "metadata": {},
   "source": [
    "### mlens"
   ]
  },
  {
   "cell_type": "code",
   "execution_count": 198,
   "metadata": {
    "scrolled": false
   },
   "outputs": [
    {
     "name": "stdout",
     "output_type": "stream",
     "text": [
      "\n",
      "Fitting 2 layers\n",
      "Fit complete                        | 00:00:00\n"
     ]
    },
    {
     "data": {
      "text/plain": [
       "SuperLearner(array_check=0, backend=None, folds=5,\n",
       "       layers=[Layer(backend='threading', dtype=<class 'numpy.float32'>, n_jobs=-1,\n",
       "   name='layer-1', propagate_features=None, raise_on_exception=True,\n",
       "   random_state=7115, shuffle=False,\n",
       "   stack=[Group(backend='threading', dtype=<class 'numpy.float32'>,\n",
       "   indexer=FoldIndex(X=None, folds=5, raise_on_ex...955d90>)],\n",
       "   n_jobs=-1, name='group-92', raise_on_exception=True, transformers=[])],\n",
       "   verbose=0)],\n",
       "       model_selection=False, n_jobs=None, raise_on_exception=True,\n",
       "       random_state=45, sample_size=20,\n",
       "       scorer=<function mean_squared_error at 0x10c955d90>, shuffle=False,\n",
       "       verbose=True)"
      ]
     },
     "execution_count": 198,
     "metadata": {},
     "output_type": "execute_result"
    }
   ],
   "source": [
    "from sklearn.linear_model import LinearRegression,Ridge\n",
    "ensemble = SuperLearner(scorer=mean_squared_error, folds=5, random_state=45, array_check=0, verbose=True)\n",
    "ensemble.add([xgb.XGBRegressor(**clf_xgb.best_params_),\n",
    "              RandomForestRegressor(**clf_rf.best_params_),\n",
    "             ],)\n",
    "\n",
    "ensemble.add(Ridge(fit_intercept=False))\n",
    "ensemble.fit(df_train_prepro.values, target.values)"
   ]
  },
  {
   "cell_type": "code",
   "execution_count": 200,
   "metadata": {},
   "outputs": [
    {
     "data": {
      "text/plain": [
       "Data([('score-m',\n",
       "       OrderedDict([('layer-1/randomforestregressor', 0.003559264258393257),\n",
       "                    ('layer-1/xgbregressor', 0.004312523754744447),\n",
       "                    ('layer-2/ridge', 0.003956087258610271)])),\n",
       "      ('score-s',\n",
       "       OrderedDict([('layer-1/randomforestregressor', 0.001867237352710067),\n",
       "                    ('layer-1/xgbregressor', 0.0036839498468570738),\n",
       "                    ('layer-2/ridge', 0.0026759268857215715)])),\n",
       "      ('ft-m',\n",
       "       OrderedDict([('layer-1/randomforestregressor', 0.026811473199632018),\n",
       "                    ('layer-1/xgbregressor', 0.02530581120008719),\n",
       "                    ('layer-2/ridge', 0.0012499242002377287)])),\n",
       "      ('ft-s',\n",
       "       OrderedDict([('layer-1/randomforestregressor', 0.005614732024163316),\n",
       "                    ('layer-1/xgbregressor', 0.003969784243041939),\n",
       "                    ('layer-2/ridge', 0.00043319732300511194)])),\n",
       "      ('pt-m',\n",
       "       OrderedDict([('layer-1/randomforestregressor', 0.001575203999891528),\n",
       "                    ('layer-1/xgbregressor', 0.00039912879983603486),\n",
       "                    ('layer-2/ridge', 0.00014486139989458024)])),\n",
       "      ('pt-s',\n",
       "       OrderedDict([('layer-1/randomforestregressor', 0.0007604472419340051),\n",
       "                    ('layer-1/xgbregressor', 3.974278107045357e-05),\n",
       "                    ('layer-2/ridge', 8.165252701186318e-05)]))])"
      ]
     },
     "execution_count": 200,
     "metadata": {},
     "output_type": "execute_result"
    }
   ],
   "source": [
    "ensemble.data"
   ]
  },
  {
   "cell_type": "markdown",
   "metadata": {},
   "source": [
    "### Simple average"
   ]
  },
  {
   "cell_type": "code",
   "execution_count": null,
   "metadata": {
    "collapsed": true
   },
   "outputs": [],
   "source": []
  },
  {
   "cell_type": "code",
   "execution_count": null,
   "metadata": {
    "collapsed": true
   },
   "outputs": [],
   "source": []
  },
  {
   "cell_type": "code",
   "execution_count": 205,
   "metadata": {},
   "outputs": [
    {
     "data": {
      "text/plain": [
       "1.9999999999999998"
      ]
     },
     "execution_count": 205,
     "metadata": {},
     "output_type": "execute_result"
    }
   ],
   "source": [
    "np.e**np.log(2)"
   ]
  },
  {
   "cell_type": "markdown",
   "metadata": {},
   "source": [
    "## Final submision "
   ]
  },
  {
   "cell_type": "code",
   "execution_count": 161,
   "metadata": {
    "collapsed": true
   },
   "outputs": [],
   "source": [
    "df_test_prepro = p.transform(df_test)"
   ]
  },
  {
   "cell_type": "code",
   "execution_count": 213,
   "metadata": {},
   "outputs": [],
   "source": [
    "submission[\"attractiveness\"]=np.e**(clf_rf.predict(df_test_prepro)) -1"
   ]
  },
  {
   "cell_type": "code",
   "execution_count": 215,
   "metadata": {},
   "outputs": [
    {
     "data": {
      "text/plain": [
       "<matplotlib.axes._subplots.AxesSubplot at 0x10dca9278>"
      ]
     },
     "execution_count": 215,
     "metadata": {},
     "output_type": "execute_result"
    },
    {
     "data": {
      "image/png": "[encoded data removed]",
      "text/plain": [
       "<matplotlib.figure.Figure at 0x10dccca20>"
      ]
     },
     "metadata": {},
     "output_type": "display_data"
    }
   ],
   "source": [
    "submission[\"attractiveness\"].plot()"
   ]
  },
  {
   "cell_type": "code",
   "execution_count": 216,
   "metadata": {
    "collapsed": true
   },
   "outputs": [],
   "source": [
    "df_train = pd.read_csv('../data/mower_market_snapshot.csv',sep=';',\n",
    "                     na_values='unknown')"
   ]
  },
  {
   "cell_type": "code",
   "execution_count": 217,
   "metadata": {},
   "outputs": [
    {
     "data": {
      "text/plain": [
       "<matplotlib.axes._subplots.AxesSubplot at 0x10dca9b70>"
      ]
     },
     "execution_count": 217,
     "metadata": {},
     "output_type": "execute_result"
    },
    {
     "data": {
      "image/png": "[encoded data removed]",
      "text/plain": [
       "<matplotlib.figure.Figure at 0x113e46b00>"
      ]
     },
     "metadata": {},
     "output_type": "display_data"
    }
   ],
   "source": [
    "df_train[\"attractiveness\"].plot()"
   ]
  },
  {
   "cell_type": "code",
   "execution_count": null,
   "metadata": {
    "collapsed": true
   },
   "outputs": [],
   "source": []
  }
 ],
 "metadata": {
  "kernelspec": {
   "display_name": "Python 3",
   "language": "python",
   "name": "python3"
  },
  "language_info": {
   "codemirror_mode": {
    "name": "ipython",
    "version": 3
   },
   "file_extension": ".py",
   "mimetype": "text/x-python",
   "name": "python",
   "nbconvert_exporter": "python",
   "pygments_lexer": "ipython3",
   "version": "3.6.3"
  }
 },
 "nbformat": 4,
 "nbformat_minor": 2
}
