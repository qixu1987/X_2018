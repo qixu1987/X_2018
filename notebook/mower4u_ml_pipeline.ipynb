{
 "cells": [
  {
   "cell_type": "markdown",
   "metadata": {},
   "source": [
    "# ** Xebia Part II: Machine Learning Pipeline**\n",
    "0. **Data loading**\n",
    "1. **Preprocessing pipeline**\n",
    "2. **Grid Search**\n",
    "    1. Xgboost\n",
    "    2. Random Forest\n",
    "    3. Lgb\n",
    "3. **Stacking**\n",
    "    1. Simple average\n",
    "    2. mlens\n",
    "4. **Prediction and submission**"
   ]
  },
  {
   "cell_type": "code",
   "execution_count": 1,
   "metadata": {},
   "outputs": [
    {
     "name": "stderr",
     "output_type": "stream",
     "text": [
      "[MLENS] backend: threading\n"
     ]
    }
   ],
   "source": [
    "import sys\n",
    "import numpy as np\n",
    "import random\n",
    "import matplotlib.pyplot as plt\n",
    "import numpy as np\n",
    "import pandas as pd\n",
    "import lightgbm as lgb\n",
    "import xgboost as xgb\n",
    "sys.path.insert(0, '../')\n",
    "\n",
    "from src.utils import WarrantyToFloat,FillByMax,one_folder_out,make_submission\n",
    "from sklearn.preprocessing import LabelBinarizer\n",
    "from sklearn.pipeline import Pipeline\n",
    "from sklearn.model_selection import GridSearchCV\n",
    "from sklearn.ensemble import RandomForestRegressor\n",
    "from sklearn_pandas import DataFrameMapper\n",
    "from sklearn.metrics import mean_squared_error\n",
    "from sklearn.model_selection import KFold\n",
    "from sklearn.linear_model import LinearRegression,Ridge\n",
    "from mlens.ensemble import SuperLearner\n",
    "\n",
    "%matplotlib inline\n",
    "random_seed = 42\n",
    "cv_number = 10"
   ]
  },
  {
   "cell_type": "markdown",
   "metadata": {},
   "source": [
    "## 1. Data Loading"
   ]
  },
  {
   "cell_type": "code",
   "execution_count": 2,
   "metadata": {
    "collapsed": true
   },
   "outputs": [],
   "source": [
    "# laod\n",
    "df_train = pd.read_csv('../data/mower_market_snapshot.csv',sep=';',na_values='unknown')\n",
    "df_train = df_train.loc[np.abs(df_train[\"price\"] - df_train[\"prod_cost\"]-df_train[\"margin\"] )<1]\n",
    "df_test = pd.read_csv('../data/submission_set.csv',sep=';',na_values='unknown')\n",
    "len_train = df_train.shape[0]\n",
    "\n",
    "# shuffle train data set \n",
    "df_train = df_train.sample(frac=1,random_state=random_seed).reset_index(drop=True)\n",
    "target = df_train.loc[:,\"attractiveness\"]\n",
    "# transform target to log(1+target) so that rmse can be used in learning\n",
    "target = np.log(1+target)\n",
    "\n",
    "df_train = df_train.drop([\"id\",\"market_share\",\"attractiveness\"],axis=1)\n",
    "submission = df_test.loc[:,[\"id\"]]\n",
    "df_test = df_test.drop([\"id\"],axis=1)"
   ]
  },
  {
   "cell_type": "code",
   "execution_count": 3,
   "metadata": {},
   "outputs": [
    {
     "data": {
      "text/html": [
       "<div>\n",
       "<style>\n",
       "    .dataframe thead tr:only-child th {\n",
       "        text-align: right;\n",
       "    }\n",
       "\n",
       "    .dataframe thead th {\n",
       "        text-align: left;\n",
       "    }\n",
       "\n",
       "    .dataframe tbody tr th {\n",
       "        vertical-align: top;\n",
       "    }\n",
       "</style>\n",
       "<table border=\"1\" class=\"dataframe\">\n",
       "  <thead>\n",
       "    <tr style=\"text-align: right;\">\n",
       "      <th></th>\n",
       "      <th>capacity</th>\n",
       "      <th>failure_rate</th>\n",
       "      <th>margin</th>\n",
       "      <th>price</th>\n",
       "      <th>prod_cost</th>\n",
       "      <th>product_type</th>\n",
       "      <th>quality</th>\n",
       "      <th>warranty</th>\n",
       "    </tr>\n",
       "  </thead>\n",
       "  <tbody>\n",
       "    <tr>\n",
       "      <th>0</th>\n",
       "      <td>21.313064</td>\n",
       "      <td>0.037928</td>\n",
       "      <td>613.061762</td>\n",
       "      <td>768.160605</td>\n",
       "      <td>155.098843</td>\n",
       "      <td>auto-portee</td>\n",
       "      <td>Medium</td>\n",
       "      <td>3 ans</td>\n",
       "    </tr>\n",
       "    <tr>\n",
       "      <th>1</th>\n",
       "      <td>25.797234</td>\n",
       "      <td>0.038664</td>\n",
       "      <td>701.321608</td>\n",
       "      <td>865.727540</td>\n",
       "      <td>164.405932</td>\n",
       "      <td>auto-portee</td>\n",
       "      <td>Low</td>\n",
       "      <td>3 ans</td>\n",
       "    </tr>\n",
       "  </tbody>\n",
       "</table>\n",
       "</div>"
      ],
      "text/plain": [
       "    capacity  failure_rate      margin       price   prod_cost product_type  \\\n",
       "0  21.313064      0.037928  613.061762  768.160605  155.098843  auto-portee   \n",
       "1  25.797234      0.038664  701.321608  865.727540  164.405932  auto-portee   \n",
       "\n",
       "  quality warranty  \n",
       "0  Medium    3 ans  \n",
       "1     Low    3 ans  "
      ]
     },
     "execution_count": 3,
     "metadata": {},
     "output_type": "execute_result"
    }
   ],
   "source": [
    "df_test.head(2)"
   ]
  },
  {
   "cell_type": "code",
   "execution_count": 4,
   "metadata": {},
   "outputs": [
    {
     "data": {
      "text/html": [
       "<div>\n",
       "<style>\n",
       "    .dataframe thead tr:only-child th {\n",
       "        text-align: right;\n",
       "    }\n",
       "\n",
       "    .dataframe thead th {\n",
       "        text-align: left;\n",
       "    }\n",
       "\n",
       "    .dataframe tbody tr th {\n",
       "        vertical-align: top;\n",
       "    }\n",
       "</style>\n",
       "<table border=\"1\" class=\"dataframe\">\n",
       "  <thead>\n",
       "    <tr style=\"text-align: right;\">\n",
       "      <th></th>\n",
       "      <th>capacity</th>\n",
       "      <th>failure_rate</th>\n",
       "      <th>margin</th>\n",
       "      <th>price</th>\n",
       "      <th>prod_cost</th>\n",
       "      <th>product_type</th>\n",
       "      <th>quality</th>\n",
       "      <th>warranty</th>\n",
       "    </tr>\n",
       "  </thead>\n",
       "  <tbody>\n",
       "    <tr>\n",
       "      <th>0</th>\n",
       "      <td>47.049497</td>\n",
       "      <td>0.208291</td>\n",
       "      <td>65.730381</td>\n",
       "      <td>76.007012</td>\n",
       "      <td>10.276631</td>\n",
       "      <td>essence</td>\n",
       "      <td>Low</td>\n",
       "      <td>1 an.</td>\n",
       "    </tr>\n",
       "    <tr>\n",
       "      <th>1</th>\n",
       "      <td>21.745488</td>\n",
       "      <td>0.036429</td>\n",
       "      <td>660.239043</td>\n",
       "      <td>820.227993</td>\n",
       "      <td>159.988950</td>\n",
       "      <td>auto-portee</td>\n",
       "      <td>Hight</td>\n",
       "      <td>3 anss</td>\n",
       "    </tr>\n",
       "  </tbody>\n",
       "</table>\n",
       "</div>"
      ],
      "text/plain": [
       "    capacity  failure_rate      margin       price   prod_cost product_type  \\\n",
       "0  47.049497      0.208291   65.730381   76.007012   10.276631      essence   \n",
       "1  21.745488      0.036429  660.239043  820.227993  159.988950  auto-portee   \n",
       "\n",
       "  quality warranty  \n",
       "0     Low    1 an.  \n",
       "1   Hight   3 anss  "
      ]
     },
     "execution_count": 4,
     "metadata": {},
     "output_type": "execute_result"
    }
   ],
   "source": [
    "df_train.head(2)"
   ]
  },
  {
   "cell_type": "markdown",
   "metadata": {},
   "source": [
    "Train, test and target are ready for preprocessing and machine learning pipeline."
   ]
  },
  {
   "cell_type": "markdown",
   "metadata": {},
   "source": [
    "## 2. Preprocessing pipeling\n",
    "DataFrameMapper from sklearn_pandas package is used to preprocessing the data for more detail of package please look at https://github.com/scikit-learn-contrib/sklearn-pandas. Please find the code of WarrentyToFloat and FillByMax in src/utils file."
   ]
  },
  {
   "cell_type": "code",
   "execution_count": 5,
   "metadata": {},
   "outputs": [
    {
     "data": {
      "text/html": [
       "<div>\n",
       "<style>\n",
       "    .dataframe thead tr:only-child th {\n",
       "        text-align: right;\n",
       "    }\n",
       "\n",
       "    .dataframe thead th {\n",
       "        text-align: left;\n",
       "    }\n",
       "\n",
       "    .dataframe tbody tr th {\n",
       "        vertical-align: top;\n",
       "    }\n",
       "</style>\n",
       "<table border=\"1\" class=\"dataframe\">\n",
       "  <thead>\n",
       "    <tr style=\"text-align: right;\">\n",
       "      <th></th>\n",
       "      <th>product_type_auto-portee</th>\n",
       "      <th>product_type_electrique</th>\n",
       "      <th>product_type_essence</th>\n",
       "      <th>quality_Hight</th>\n",
       "      <th>quality_Low</th>\n",
       "      <th>quality_Medium</th>\n",
       "      <th>warranty</th>\n",
       "      <th>capacity</th>\n",
       "      <th>failure_rate</th>\n",
       "      <th>margin</th>\n",
       "      <th>price</th>\n",
       "      <th>prod_cost</th>\n",
       "    </tr>\n",
       "  </thead>\n",
       "  <tbody>\n",
       "    <tr>\n",
       "      <th>0</th>\n",
       "      <td>0.0</td>\n",
       "      <td>0.0</td>\n",
       "      <td>1.0</td>\n",
       "      <td>0.0</td>\n",
       "      <td>1.0</td>\n",
       "      <td>0.0</td>\n",
       "      <td>1.0</td>\n",
       "      <td>47.049497</td>\n",
       "      <td>0.208291</td>\n",
       "      <td>65.730381</td>\n",
       "      <td>76.007012</td>\n",
       "      <td>10.276631</td>\n",
       "    </tr>\n",
       "    <tr>\n",
       "      <th>1</th>\n",
       "      <td>1.0</td>\n",
       "      <td>0.0</td>\n",
       "      <td>0.0</td>\n",
       "      <td>1.0</td>\n",
       "      <td>0.0</td>\n",
       "      <td>0.0</td>\n",
       "      <td>3.0</td>\n",
       "      <td>21.745488</td>\n",
       "      <td>0.036429</td>\n",
       "      <td>660.239043</td>\n",
       "      <td>820.227993</td>\n",
       "      <td>159.988950</td>\n",
       "    </tr>\n",
       "  </tbody>\n",
       "</table>\n",
       "</div>"
      ],
      "text/plain": [
       "   product_type_auto-portee  product_type_electrique  product_type_essence  \\\n",
       "0                       0.0                      0.0                   1.0   \n",
       "1                       1.0                      0.0                   0.0   \n",
       "\n",
       "   quality_Hight  quality_Low  quality_Medium  warranty   capacity  \\\n",
       "0            0.0          1.0             0.0       1.0  47.049497   \n",
       "1            1.0          0.0             0.0       3.0  21.745488   \n",
       "\n",
       "   failure_rate      margin       price   prod_cost  \n",
       "0      0.208291   65.730381   76.007012   10.276631  \n",
       "1      0.036429  660.239043  820.227993  159.988950  "
      ]
     },
     "execution_count": 5,
     "metadata": {},
     "output_type": "execute_result"
    }
   ],
   "source": [
    "preprocessing = Pipeline([\n",
    "    ('preprocessing',DataFrameMapper([ \n",
    "                ('product_type', LabelBinarizer()),\n",
    "                ('quality', LabelBinarizer()),\n",
    "                ('warranty',WarrantyToFloat()),\n",
    "                                           ],input_df=True,default=None,df_out = True)),\n",
    "     ('fill_by_max',FillByMax()) # this is only used for tree methodes  \n",
    "            ])\n",
    "\n",
    "df_train_prepro = preprocessing.fit_transform(df_train)\n",
    "df_train_prepro.head(2)  "
   ]
  },
  {
   "cell_type": "markdown",
   "metadata": {},
   "source": [
    "df_train_prepro is ready to train a model and we will use the fitted preprocessing pipeling to preprocessing the test data set at the last part of this notebook"
   ]
  },
  {
   "cell_type": "markdown",
   "metadata": {},
   "source": [
    "## 3. Grid search\n",
    "GridSearchCV is used for Xgboost, Random Forest and Lgb to find their optimal parameters\n",
    "### Xgboost"
   ]
  },
  {
   "cell_type": "code",
   "execution_count": 6,
   "metadata": {
    "scrolled": false
   },
   "outputs": [
    {
     "name": "stdout",
     "output_type": "stream",
     "text": [
      "{'colsample_bytree': 0.95, 'learning_rate': 0.1, 'max_depth': 6, 'min_child_weight': 20, 'n_estimators': 100, 'objective': 'reg:linear', 'seed': 42, 'subsample': 0.95}\n",
      "-0.001757690217706522\n"
     ]
    }
   ],
   "source": [
    "parameters = {'learning_rate': [0.1, 0.15,0.2], #so called `eta` value\n",
    "              'max_depth': [6],\n",
    "              'min_child_weight': [15,20],\n",
    "              'subsample': [0.95,0.98],\n",
    "              'colsample_bytree': [0.95,0.98],\n",
    "              'n_estimators': [100,150], #number of trees, change it to 1000 for better results\n",
    "              'objective':[\"reg:linear\"],\n",
    "              'seed': [random_seed],\n",
    "               }\n",
    "xgb_model = xgb.XGBRegressor()\n",
    "clf_xgb = GridSearchCV(xgb_model, parameters, n_jobs=cv_number, cv= cv_number,\n",
    "                       scoring='neg_mean_squared_error',\n",
    "                       verbose=0, refit=True,return_train_score=True)\n",
    "_ = clf_xgb.fit(df_train_prepro,target)\n",
    "# best parameter\n",
    "print(clf_xgb.best_params_)\n",
    "# score\n",
    "print(clf_xgb.best_score_)"
   ]
  },
  {
   "cell_type": "markdown",
   "metadata": {},
   "source": [
    "### Random Forest"
   ]
  },
  {
   "cell_type": "code",
   "execution_count": 7,
   "metadata": {
    "scrolled": false
   },
   "outputs": [
    {
     "name": "stdout",
     "output_type": "stream",
     "text": [
      "{'max_depth': None, 'max_features': 10, 'min_samples_leaf': 2, 'min_samples_split': 2, 'n_estimators': 100, 'random_state': 42}\n",
      "-0.0018174264910305192\n"
     ]
    }
   ],
   "source": [
    "parameters = {\"n_estimators\":[20,50,100],\n",
    "              \"max_depth\": [5,None],\n",
    "              \"max_features\": [8,9,10],\n",
    "              \"min_samples_split\": [2,3],\n",
    "              \"min_samples_leaf\": [2,3,5],\n",
    "              \"random_state\":[random_seed]\n",
    "                }\n",
    "rf_model =  RandomForestRegressor()\n",
    "clf_rf = GridSearchCV(rf_model, parameters, n_jobs=cv_number,cv= cv_number, \n",
    "                   scoring='neg_mean_squared_error',\n",
    "                   verbose=0, refit=True,return_train_score=True)\n",
    "_ = clf_rf.fit(df_train_prepro,target)\n",
    "print(clf_rf.best_params_)\n",
    "print(clf_rf.best_score_)"
   ]
  },
  {
   "cell_type": "markdown",
   "metadata": {},
   "source": [
    "### Lgb"
   ]
  },
  {
   "cell_type": "code",
   "execution_count": 8,
   "metadata": {},
   "outputs": [
    {
     "name": "stdout",
     "output_type": "stream",
     "text": [
      "{'boosting_type': 'gbdt', 'colsample_bytree': 0.7, 'learning_rate': 0.1, 'n_estimators': 100, 'num_leaves': 12, 'objective': 'regression', 'random_state': 42, 'subsample': 0.9}\n",
      "-0.0017132634310111684\n"
     ]
    }
   ],
   "source": [
    "parameters = {\n",
    "    'learning_rate': [0.1,0.3],\n",
    "    'n_estimators': [100,200],\n",
    "    'num_leaves': [12,16],\n",
    "    'boosting_type' : ['gbdt'],\n",
    "    'objective' : ['regression'],\n",
    "    'random_state' : [random_seed], \n",
    "    'colsample_bytree' : [0.6, 0.7],\n",
    "    'subsample' : [0.9]\n",
    "    }\n",
    "lgb_model =  lgb.LGBMRegressor()\n",
    "clf_lgb = GridSearchCV(lgb_model, parameters, n_jobs=cv_number,\n",
    "                    cv= cv_number, \n",
    "                    scoring='neg_mean_squared_error',\n",
    "                    verbose=0, refit=True,return_train_score=True)\n",
    "_ = clf_lgb.fit(df_train_prepro,target)\n",
    "print(clf_lgb.best_params_)\n",
    "print(clf_lgb.best_score_)"
   ]
  },
  {
   "cell_type": "markdown",
   "metadata": {},
   "source": [
    "## 4. Stacking\n",
    "After grid search we have 3 very good models let's combine them to get a better model. The simplest way is to average the 3 models, besides we can use some package like mlens to stack models, which is sometimes a more efficienty way. "
   ]
  },
  {
   "cell_type": "markdown",
   "metadata": {},
   "source": [
    "### Simple Average "
   ]
  },
  {
   "cell_type": "code",
   "execution_count": 9,
   "metadata": {
    "collapsed": true
   },
   "outputs": [],
   "source": [
    "# prepare first level predictions for stacking\n",
    "pre_rf_k =  one_folder_out(df_train_prepro,target,RandomForestRegressor(**clf_rf.best_params_),cv_number,random_seed)\n",
    "pre_xgb_k = one_folder_out(df_train_prepro,target,xgb.XGBRegressor(**clf_xgb.best_params_),cv_number,random_seed)\n",
    "pre_lgb_k = one_folder_out(df_train_prepro,target,lgb.LGBMRegressor(**clf_lgb.best_params_),cv_number,random_seed)"
   ]
  },
  {
   "cell_type": "code",
   "execution_count": 10,
   "metadata": {},
   "outputs": [
    {
     "name": "stdout",
     "output_type": "stream",
     "text": [
      "0.001757690217706522\n",
      "0.0018174264910305192\n",
      "0.0017132634310111684\n",
      "0.0017020702891760553\n"
     ]
    }
   ],
   "source": [
    "print(mean_squared_error(pre_xgb_k,target))\n",
    "print(mean_squared_error(pre_rf_k,target))\n",
    "print(mean_squared_error(pre_lgb_k,target))\n",
    "print(mean_squared_error( 0.05*pre_rf_k+0.25*pre_xgb_k+0.7*pre_lgb_k,target))"
   ]
  },
  {
   "cell_type": "markdown",
   "metadata": {},
   "source": [
    "## mlens"
   ]
  },
  {
   "cell_type": "code",
   "execution_count": 11,
   "metadata": {
    "scrolled": false
   },
   "outputs": [
    {
     "data": {
      "text/plain": [
       "SuperLearner(array_check=0, backend=None, folds=10,\n",
       "       layers=[Layer(backend='threading', dtype=<class 'numpy.float32'>, n_jobs=-1,\n",
       "   name='layer-1', propagate_features=None, raise_on_exception=True,\n",
       "   random_state=7270, shuffle=False,\n",
       "   stack=[Group(backend='threading', dtype=<class 'numpy.float32'>,\n",
       "   indexer=FoldIndex(X=None, folds=10, raise_on_e...b749bf8>)],\n",
       "   n_jobs=-1, name='group-1', raise_on_exception=True, transformers=[])],\n",
       "   verbose=0)],\n",
       "       model_selection=False, n_jobs=None, raise_on_exception=True,\n",
       "       random_state=42, sample_size=20,\n",
       "       scorer=<function mean_squared_error at 0x10b749bf8>, shuffle=False,\n",
       "       verbose=False)"
      ]
     },
     "execution_count": 11,
     "metadata": {},
     "output_type": "execute_result"
    }
   ],
   "source": [
    "ensemble_ridge = SuperLearner(scorer=mean_squared_error, folds=cv_number, random_state=random_seed, array_check=0)\n",
    "ensemble_ridge.add([xgb.XGBRegressor(**clf_xgb.best_params_),\n",
    "              RandomForestRegressor(**clf_rf.best_params_),\n",
    "              lgb.LGBMRegressor(**clf_lgb.best_params_)\n",
    "             ],)\n",
    "\n",
    "ensemble_ridge.add(Ridge(fit_intercept=False))\n",
    "ensemble_ridge.fit(df_train_prepro.values, target.values)"
   ]
  },
  {
   "cell_type": "code",
   "execution_count": 12,
   "metadata": {},
   "outputs": [
    {
     "data": {
      "text/plain": [
       "Data([('score-m',\n",
       "       OrderedDict([('layer-1/lgbmregressor', 0.0017132634310111684),\n",
       "                    ('layer-1/randomforestregressor', 0.0018174264910305192),\n",
       "                    ('layer-1/xgbregressor', 0.0017576902177065216),\n",
       "                    ('layer-2/ridge', 0.0017091848473184974)])),\n",
       "      ('score-s',\n",
       "       OrderedDict([('layer-1/lgbmregressor', 0.00023336004227918268),\n",
       "                    ('layer-1/randomforestregressor', 0.00022689234463838643),\n",
       "                    ('layer-1/xgbregressor', 0.00027377742526342246),\n",
       "                    ('layer-2/ridge', 0.00023533418813480374)])),\n",
       "      ('ft-m',\n",
       "       OrderedDict([('layer-1/lgbmregressor', 0.3550750264996168),\n",
       "                    ('layer-1/randomforestregressor', 0.6492212285993446),\n",
       "                    ('layer-1/xgbregressor', 0.18572375950061543),\n",
       "                    ('layer-2/ridge', 0.0016378871005144902)])),\n",
       "      ('ft-s',\n",
       "       OrderedDict([('layer-1/lgbmregressor', 0.026980491227216248),\n",
       "                    ('layer-1/randomforestregressor', 0.11626462405199388),\n",
       "                    ('layer-1/xgbregressor', 0.011369216235459742),\n",
       "                    ('layer-2/ridge', 0.0006640952477703592)])),\n",
       "      ('pt-m',\n",
       "       OrderedDict([('layer-1/lgbmregressor', 0.002172872199662379),\n",
       "                    ('layer-1/randomforestregressor', 0.010167195499889203),\n",
       "                    ('layer-1/xgbregressor', 0.0009474476999457692),\n",
       "                    ('layer-2/ridge', 3.799390033236705e-05)])),\n",
       "      ('pt-s',\n",
       "       OrderedDict([('layer-1/lgbmregressor', 0.0012053921147604368),\n",
       "                    ('layer-1/randomforestregressor', 0.0019936995450943163),\n",
       "                    ('layer-1/xgbregressor', 8.638925791550475e-05),\n",
       "                    ('layer-2/ridge', 3.61176145019607e-06)]))])"
      ]
     },
     "execution_count": 12,
     "metadata": {},
     "output_type": "execute_result"
    }
   ],
   "source": [
    "ensemble_ridge.data"
   ]
  },
  {
   "cell_type": "markdown",
   "metadata": {},
   "source": [
    "## 5. Predicting and submision "
   ]
  },
  {
   "cell_type": "code",
   "execution_count": 13,
   "metadata": {
    "collapsed": true
   },
   "outputs": [],
   "source": [
    "df_test_prepro = preprocessing.transform(df_test)"
   ]
  },
  {
   "cell_type": "code",
   "execution_count": 14,
   "metadata": {},
   "outputs": [],
   "source": [
    "# xgb , lgb and rf\n",
    "make_submission(df_test_prepro,submission,clf_rf,\"rf\")\n",
    "make_submission(df_test_prepro,submission,clf_xgb,\"xgb\") \n",
    "make_submission(df_test_prepro,submission,clf_lgb,\"lgb\")\n",
    "\n",
    "# mlens\n",
    "submission[\"attractiveness\"]=np.e**(ensemble_ridge.predict(df_test_prepro.values)) -1\n",
    "submission.to_csv('../submissions/xu_qi_attractiveness2.csv',sep=';',index=False)\n",
    "\n",
    "# average\n",
    "rf_pred = pd.read_csv('../submissions/rf.csv',sep=';')\n",
    "xgb_pred = pd.read_csv('../submissions/xgb.csv',sep=';')\n",
    "lgb_pred = pd.read_csv('../submissions/lgb.csv',sep=';')\n",
    "submission[\"attractiveness\"] = 0.05*rf_pred[\"attractiveness\"] + 0.25*xgb_pred[\"attractiveness\"] + 0.7*lgb_pred[\"attractiveness\"]\n",
    "submission.to_csv('../submissions/xu_qi_attractiveness.csv',sep=';',index=False)"
   ]
  },
  {
   "cell_type": "code",
   "execution_count": null,
   "metadata": {
    "collapsed": true
   },
   "outputs": [],
   "source": []
  }
 ],
 "metadata": {
  "kernelspec": {
   "display_name": "Python 3",
   "language": "python",
   "name": "python3"
  },
  "language_info": {
   "codemirror_mode": {
    "name": "ipython",
    "version": 3
   },
   "file_extension": ".py",
   "mimetype": "text/x-python",
   "name": "python",
   "nbconvert_exporter": "python",
   "pygments_lexer": "ipython3",
   "version": "3.6.3"
  }
 },
 "nbformat": 4,
 "nbformat_minor": 2
}
